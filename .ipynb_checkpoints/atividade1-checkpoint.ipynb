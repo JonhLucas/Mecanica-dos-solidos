{
 "cells": [
  {
   "cell_type": "markdown",
   "id": "117cd557",
   "metadata": {},
   "source": [
    "1) Calcule o centro de massa do sólido visto abaixo, considere a densidade constante e igual a 1.\n",
    "|Perspectiva isométrica | Vista lateral|\n",
    "|:-------------------------:|:-------------------------:|\n",
    "|<img width=500 src=\"assets/perspectivaPrimitiva.png\" alt=\"Alternative text\" />|<img width=500 src=\"assets/primitiva.png\" alt=\"Alternative text\" />|\n"
   ]
  },
  {
   "cell_type": "code",
   "execution_count": null,
   "id": "d67d91e4",
   "metadata": {
    "scrolled": true
   },
   "outputs": [],
   "source": []
  },
  {
   "cell_type": "markdown",
   "id": "b754eea1",
   "metadata": {},
   "source": [
    "2. Considere que o cubo está conectado ao sólido por meio de uma junta prismática, seu movimento se dá no eixo x e sua constante de densidade é 2, veja a figura abaixo. \n",
    "\n",
    "    <img width=500 src=\"assets/conjunto.png\" alt=\"Figura\" />\n",
    "    \n",
    "    a) Calcule o centro de massa do cubo na posição inicial, ou seja, $dx = 0$. "
   ]
  },
  {
   "cell_type": "code",
   "execution_count": null,
   "id": "6eacb9e9",
   "metadata": {},
   "outputs": [],
   "source": []
  },
  {
   "cell_type": "markdown",
   "id": "4cda9bb2",
   "metadata": {},
   "source": [
    "   b) Descubra o valor de $dx$ para que a componente x do centro de massa do conjunto, sólido e cubo, seja maior ou igual a zero."
   ]
  },
  {
   "cell_type": "code",
   "execution_count": null,
   "id": "d8e1bdd0",
   "metadata": {},
   "outputs": [],
   "source": []
  },
  {
   "cell_type": "markdown",
   "id": "6fd8917f",
   "metadata": {},
   "source": [
    "3. Verifique na simulação qual a posição limite para o conjunto permaneça em equilíbrio."
   ]
  },
  {
   "cell_type": "code",
   "execution_count": null,
   "id": "f92fd7a3",
   "metadata": {},
   "outputs": [],
   "source": []
  }
 ],
 "metadata": {
  "kernelspec": {
   "display_name": "Python 3 (ipykernel)",
   "language": "python",
   "name": "python3"
  },
  "language_info": {
   "codemirror_mode": {
    "name": "ipython",
    "version": 3
   },
   "file_extension": ".py",
   "mimetype": "text/x-python",
   "name": "python",
   "nbconvert_exporter": "python",
   "pygments_lexer": "ipython3",
   "version": "3.9.18"
  }
 },
 "nbformat": 4,
 "nbformat_minor": 5
}
